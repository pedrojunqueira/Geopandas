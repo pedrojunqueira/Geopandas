{
 "cells": [
  {
   "cell_type": "markdown",
   "metadata": {},
   "source": [
    "# GeoPandas\n",
    "\n",
    "This is an attempt to plot geo coordinates using GeoPandas geometry with a BaseMap projection"
   ]
  },
  {
   "cell_type": "code",
   "execution_count": 1,
   "metadata": {},
   "outputs": [],
   "source": [
    "# import packages\n",
    "import matplotlib.pyplot as plt\n",
    "%matplotlib inline\n",
    "import seaborn as sns\n",
    "import pandas as pd\n",
    "import numpy as np\n",
    "import descartes\n",
    "import geopandas as gpd\n",
    "from pyproj import Proj\n",
    "from shapely.geometry import Point, Polygon\n",
    "import folium\n",
    "from folium.plugins import FastMarkerCluster\n",
    "from mpl_toolkits.basemap import pyproj\n",
    "from mpl_toolkits.basemap import Basemap\n"
   ]
  },
  {
   "cell_type": "code",
   "execution_count": 11,
   "metadata": {},
   "outputs": [
    {
     "name": "stdout",
     "output_type": "stream",
     "text": [
      "\n",
      "Sampling site lon -44.636, lat -23.2278\n",
      "\n"
     ]
    },
    {
     "data": {
      "text/html": [
       "<div>\n",
       "<style scoped>\n",
       "    .dataframe tbody tr th:only-of-type {\n",
       "        vertical-align: middle;\n",
       "    }\n",
       "\n",
       "    .dataframe tbody tr th {\n",
       "        vertical-align: top;\n",
       "    }\n",
       "\n",
       "    .dataframe thead th {\n",
       "        text-align: right;\n",
       "    }\n",
       "</style>\n",
       "<table border=\"1\" class=\"dataframe\">\n",
       "  <thead>\n",
       "    <tr style=\"text-align: right;\">\n",
       "      <th></th>\n",
       "      <th>Meters East</th>\n",
       "      <th>Meters South</th>\n",
       "    </tr>\n",
       "  </thead>\n",
       "  <tbody>\n",
       "    <tr>\n",
       "      <td>0</td>\n",
       "      <td>529025.0</td>\n",
       "      <td>7422210.0</td>\n",
       "    </tr>\n",
       "    <tr>\n",
       "      <td>1</td>\n",
       "      <td>529114.0</td>\n",
       "      <td>7422343.0</td>\n",
       "    </tr>\n",
       "    <tr>\n",
       "      <td>2</td>\n",
       "      <td>545227.0</td>\n",
       "      <td>7435702.0</td>\n",
       "    </tr>\n",
       "    <tr>\n",
       "      <td>3</td>\n",
       "      <td>545582.0</td>\n",
       "      <td>7435741.0</td>\n",
       "    </tr>\n",
       "  </tbody>\n",
       "</table>\n",
       "</div>"
      ],
      "text/plain": [
       "   Meters East  Meters South\n",
       "0     529025.0     7422210.0\n",
       "1     529114.0     7422343.0\n",
       "2     545227.0     7435702.0\n",
       "3     545582.0     7435741.0"
      ]
     },
     "execution_count": 11,
     "metadata": {},
     "output_type": "execute_result"
    }
   ],
   "source": [
    "core = (-44.6360, -23.2278)\n",
    "\n",
    "print(f'\\nSampling site lon {core[0]}, lat {core[1]}\\n')\n",
    "\n",
    "x = (529025.00, 529114.00, 545227.00, 545582.00)\n",
    "y = (7422210.00, 7422343.00, 7435702.00, 7435741.00)\n",
    "\n",
    "# creating a pandas dataframe with some data for East and South\n",
    "df = pd.DataFrame(np.c_[x, y], columns=['Meters East', 'Meters South'])\n",
    "df"
   ]
  },
  {
   "cell_type": "code",
   "execution_count": 12,
   "metadata": {},
   "outputs": [],
   "source": [
    "# configuring projection to Proj object to convert E S to lon lat\n",
    "\n",
    "myProj = Proj(\"+proj=utm +zone=23K, +south +ellps=WGS84 +datum=WGS84 +units=m +no_defs\")"
   ]
  },
  {
   "cell_type": "code",
   "execution_count": 13,
   "metadata": {},
   "outputs": [],
   "source": [
    "lon, lat = myProj(df['Meters East'].values, df['Meters South'].values, inverse=True)"
   ]
  },
  {
   "cell_type": "code",
   "execution_count": 10,
   "metadata": {},
   "outputs": [
    {
     "data": {
      "text/plain": [
       "array([-44.71612809, -44.71526021, -44.55807312, -44.55460555])"
      ]
     },
     "execution_count": 10,
     "metadata": {},
     "output_type": "execute_result"
    }
   ],
   "source": [
    "# it assign to an array for lon\n",
    "lon"
   ]
  },
  {
   "cell_type": "code",
   "execution_count": 9,
   "metadata": {},
   "outputs": [
    {
     "data": {
      "text/plain": [
       "array([-23.3093153 , -23.30811233, -23.18707651, -23.18671445])"
      ]
     },
     "execution_count": 9,
     "metadata": {},
     "output_type": "execute_result"
    }
   ],
   "source": [
    "# it assign to an array for lon\n",
    "lat"
   ]
  },
  {
   "cell_type": "code",
   "execution_count": 14,
   "metadata": {},
   "outputs": [],
   "source": [
    "# The Proj class does as a default a conversion from Lon, Lat ro UTM. This is why we used the inverse option\n",
    "# now we will convert it back to UTM\n",
    "UTMx, UTMy = myProj(lon, lat)"
   ]
  },
  {
   "cell_type": "code",
   "execution_count": 15,
   "metadata": {},
   "outputs": [
    {
     "data": {
      "text/plain": [
       "array([529025., 529114., 545227., 545582.])"
      ]
     },
     "execution_count": 15,
     "metadata": {},
     "output_type": "execute_result"
    }
   ],
   "source": [
    "UTMx"
   ]
  },
  {
   "cell_type": "code",
   "execution_count": 16,
   "metadata": {},
   "outputs": [
    {
     "data": {
      "text/plain": [
       "array([7422210., 7422343., 7435702., 7435741.])"
      ]
     },
     "execution_count": 16,
     "metadata": {},
     "output_type": "execute_result"
    }
   ],
   "source": [
    "UTMy"
   ]
  },
  {
   "cell_type": "code",
   "execution_count": 17,
   "metadata": {},
   "outputs": [],
   "source": [
    "# Now we can redo the DataFrame with all the cordinates for the points in both coordinate systems\n",
    "df = pd.DataFrame(data=np.c_[lon,lat,UTMx,UTMy],columns=['lon','lat','UTMx','UTMy'])"
   ]
  },
  {
   "cell_type": "code",
   "execution_count": 19,
   "metadata": {},
   "outputs": [
    {
     "data": {
      "text/html": [
       "<div>\n",
       "<style scoped>\n",
       "    .dataframe tbody tr th:only-of-type {\n",
       "        vertical-align: middle;\n",
       "    }\n",
       "\n",
       "    .dataframe tbody tr th {\n",
       "        vertical-align: top;\n",
       "    }\n",
       "\n",
       "    .dataframe thead th {\n",
       "        text-align: right;\n",
       "    }\n",
       "</style>\n",
       "<table border=\"1\" class=\"dataframe\">\n",
       "  <thead>\n",
       "    <tr style=\"text-align: right;\">\n",
       "      <th></th>\n",
       "      <th>lon</th>\n",
       "      <th>lat</th>\n",
       "      <th>UTMx</th>\n",
       "      <th>UTMy</th>\n",
       "    </tr>\n",
       "  </thead>\n",
       "  <tbody>\n",
       "    <tr>\n",
       "      <td>0</td>\n",
       "      <td>-44.716128</td>\n",
       "      <td>-23.309315</td>\n",
       "      <td>529025.0</td>\n",
       "      <td>7422210.0</td>\n",
       "    </tr>\n",
       "    <tr>\n",
       "      <td>1</td>\n",
       "      <td>-44.715260</td>\n",
       "      <td>-23.308112</td>\n",
       "      <td>529114.0</td>\n",
       "      <td>7422343.0</td>\n",
       "    </tr>\n",
       "    <tr>\n",
       "      <td>2</td>\n",
       "      <td>-44.558073</td>\n",
       "      <td>-23.187077</td>\n",
       "      <td>545227.0</td>\n",
       "      <td>7435702.0</td>\n",
       "    </tr>\n",
       "    <tr>\n",
       "      <td>3</td>\n",
       "      <td>-44.554606</td>\n",
       "      <td>-23.186714</td>\n",
       "      <td>545582.0</td>\n",
       "      <td>7435741.0</td>\n",
       "    </tr>\n",
       "  </tbody>\n",
       "</table>\n",
       "</div>"
      ],
      "text/plain": [
       "         lon        lat      UTMx       UTMy\n",
       "0 -44.716128 -23.309315  529025.0  7422210.0\n",
       "1 -44.715260 -23.308112  529114.0  7422343.0\n",
       "2 -44.558073 -23.187077  545227.0  7435702.0\n",
       "3 -44.554606 -23.186714  545582.0  7435741.0"
      ]
     },
     "execution_count": 19,
     "metadata": {},
     "output_type": "execute_result"
    }
   ],
   "source": [
    "df"
   ]
  },
  {
   "cell_type": "code",
   "execution_count": 20,
   "metadata": {},
   "outputs": [
    {
     "data": {
      "text/plain": [
       "-23.309315298460515"
      ]
     },
     "execution_count": 20,
     "metadata": {},
     "output_type": "execute_result"
    }
   ],
   "source": [
    "# lat for the first row\n",
    "lat[0]"
   ]
  },
  {
   "cell_type": "code",
   "execution_count": 21,
   "metadata": {},
   "outputs": [
    {
     "name": "stderr",
     "output_type": "stream",
     "text": [
      "C:\\Users\\pjunqueira\\.conda\\envs\\explore_australia\\lib\\site-packages\\ipykernel_launcher.py:10: MatplotlibDeprecationWarning: \n",
      "The dedent function was deprecated in Matplotlib 3.1 and will be removed in 3.3. Use inspect.cleandoc instead.\n",
      "  # Remove the CWD from sys.path while we load stuff.\n"
     ]
    },
    {
     "data": {
      "image/png": "[encoded data removed]",
      "text/plain": [
       "<Figure size 432x288 with 1 Axes>"
      ]
     },
     "metadata": {},
     "output_type": "display_data"
    }
   ],
   "source": [
    "# Matplotlib is not the best tool to deal with map I don not like if you compare with Folium\n",
    "# But below is an example on how to use it by hendering chart on the Basemap class\n",
    "\n",
    "from mpl_toolkits.basemap import Basemap\n",
    "import numpy as np\n",
    "import matplotlib.pyplot as plt\n",
    "\n",
    "# create a map object\n",
    "m = Basemap(projection='merc',llcrnrlat=-30,urcrnrlat=-20,\\\n",
    "            llcrnrlon=-50,urcrnrlon=-30,lat_ts=10,resolution='c')\n",
    "m.drawcoastlines()\n",
    "m.fillcontinents(color='green',lake_color='aqua')\n",
    "m.drawmapboundary(fill_color='aqua')\n",
    "\n",
    "# plot points on the figure\n",
    "for row in df.iterrows():\n",
    "    lon, lat = row[1]['lon'], row[1]['lat']\n",
    "    xpt,ypt = m(lon,lat)\n",
    "    m.plot(xpt,ypt,'bo')\n",
    "plt.title(\"Mercator Projection\")\n",
    "plt.show()"
   ]
  },
  {
   "cell_type": "code",
   "execution_count": 22,
   "metadata": {},
   "outputs": [],
   "source": [
    "# now lets give it a go by using the geo pandas map. THe Api is better but nothing compared to folium\n",
    "\n",
    "# create a world map object\n",
    "world = gpd.read_file(gpd.datasets.get_path('naturalearth_lowres'))\n"
   ]
  },
  {
   "cell_type": "code",
   "execution_count": 23,
   "metadata": {},
   "outputs": [
    {
     "data": {
      "text/plain": [
       "{'init': 'epsg:4326'}"
      ]
     },
     "execution_count": 23,
     "metadata": {},
     "output_type": "execute_result"
    }
   ],
   "source": [
    "# the default configuration for coordinate system is epsg: 4326\n",
    "world.crs"
   ]
  },
  {
   "cell_type": "code",
   "execution_count": 24,
   "metadata": {},
   "outputs": [
    {
     "data": {
      "image/png": "[encoded data removed]",
      "text/plain": [
       "<Figure size 432x288 with 1 Axes>"
      ]
     },
     "metadata": {
      "needs_background": "light"
     },
     "output_type": "display_data"
    }
   ],
   "source": [
    "# plotting\n",
    "world.plot();\n"
   ]
  },
  {
   "cell_type": "code",
   "execution_count": 26,
   "metadata": {},
   "outputs": [
    {
     "data": {
      "image/png": "[encoded data removed]",
      "text/plain": [
       "<Figure size 432x288 with 1 Axes>"
      ]
     },
     "metadata": {
      "needs_background": "light"
     },
     "output_type": "display_data"
    }
   ],
   "source": [
    "# amazing that the world class atribute name is a data model and you can \"chop\" a particular country\n",
    "world[world.name == \"Brazil\"].plot();"
   ]
  },
  {
   "cell_type": "code",
   "execution_count": 27,
   "metadata": {},
   "outputs": [],
   "source": [
    "# same thing for a continent but using the continent attribute of the data model\n",
    "world = world[world.continent == \"South America\"]"
   ]
  },
  {
   "cell_type": "code",
   "execution_count": 28,
   "metadata": {},
   "outputs": [
    {
     "data": {
      "image/png": "[encoded data removed]",
      "text/plain": [
       "<Figure size 432x288 with 1 Axes>"
      ]
     },
     "metadata": {
      "needs_background": "light"
     },
     "output_type": "display_data"
    }
   ],
   "source": [
    "# the Geopandas chart is built on top of Matplotlib so we works as such\n",
    "ax = world.plot()\n",
    "ax.set_title(\"WGS84 (lat/lon)\");"
   ]
  },
  {
   "cell_type": "code",
   "execution_count": 30,
   "metadata": {},
   "outputs": [],
   "source": [
    "# this is how you configure the crs projection in the objects\n",
    "\n",
    "world = world.to_crs({'init': 'epsg:3395'})"
   ]
  },
  {
   "cell_type": "code",
   "execution_count": 31,
   "metadata": {},
   "outputs": [
    {
     "data": {
      "image/png": "[encoded data removed]",
      "text/plain": [
       "<Figure size 432x288 with 1 Axes>"
      ]
     },
     "metadata": {
      "needs_background": "light"
     },
     "output_type": "display_data"
    }
   ],
   "source": [
    "ax = world.plot()\n",
    "ax.set_title(\"Mercator\");"
   ]
  },
  {
   "cell_type": "code",
   "execution_count": 32,
   "metadata": {},
   "outputs": [],
   "source": [
    "# Pandas is very powerful as a dataframa and geopandas is built to work with geospacial data\n",
    "# a Point is a vector object to plot in chart\n",
    "# lets create a list of shapes with the coordinates\n",
    "geometry = [Point(x,y) for x, y in zip(df['lon'], df['lat'])]"
   ]
  },
  {
   "cell_type": "code",
   "execution_count": 37,
   "metadata": {},
   "outputs": [
    {
     "data": {
      "text/plain": [
       "[<shapely.geometry.point.Point at 0x1b4a6973588>,\n",
       " <shapely.geometry.point.Point at 0x1b4a6519898>,\n",
       " <shapely.geometry.point.Point at 0x1b4a676e160>,\n",
       " <shapely.geometry.point.Point at 0x1b4a69736d8>]"
      ]
     },
     "execution_count": 37,
     "metadata": {},
     "output_type": "execute_result"
    }
   ],
   "source": [
    "geometry"
   ]
  },
  {
   "cell_type": "code",
   "execution_count": 38,
   "metadata": {},
   "outputs": [],
   "source": [
    "# configure back to be able to plot lat, lon\n",
    "crs = {'init': 'epsg:4326'}"
   ]
  },
  {
   "cell_type": "code",
   "execution_count": 39,
   "metadata": {},
   "outputs": [],
   "source": [
    "# create a geo DF\n",
    "geo_df = gpd.GeoDataFrame(df, crs = crs, geometry = geometry)"
   ]
  },
  {
   "cell_type": "code",
   "execution_count": 40,
   "metadata": {},
   "outputs": [
    {
     "data": {
      "text/html": [
       "<div>\n",
       "<style scoped>\n",
       "    .dataframe tbody tr th:only-of-type {\n",
       "        vertical-align: middle;\n",
       "    }\n",
       "\n",
       "    .dataframe tbody tr th {\n",
       "        vertical-align: top;\n",
       "    }\n",
       "\n",
       "    .dataframe thead th {\n",
       "        text-align: right;\n",
       "    }\n",
       "</style>\n",
       "<table border=\"1\" class=\"dataframe\">\n",
       "  <thead>\n",
       "    <tr style=\"text-align: right;\">\n",
       "      <th></th>\n",
       "      <th>lon</th>\n",
       "      <th>lat</th>\n",
       "      <th>UTMx</th>\n",
       "      <th>UTMy</th>\n",
       "      <th>geometry</th>\n",
       "    </tr>\n",
       "  </thead>\n",
       "  <tbody>\n",
       "    <tr>\n",
       "      <td>0</td>\n",
       "      <td>-44.716128</td>\n",
       "      <td>-23.309315</td>\n",
       "      <td>529025.0</td>\n",
       "      <td>7422210.0</td>\n",
       "      <td>POINT (-44.71612808791695 -23.30931529846051)</td>\n",
       "    </tr>\n",
       "    <tr>\n",
       "      <td>1</td>\n",
       "      <td>-44.715260</td>\n",
       "      <td>-23.308112</td>\n",
       "      <td>529114.0</td>\n",
       "      <td>7422343.0</td>\n",
       "      <td>POINT (-44.71526021135774 -23.30811233341768)</td>\n",
       "    </tr>\n",
       "    <tr>\n",
       "      <td>2</td>\n",
       "      <td>-44.558073</td>\n",
       "      <td>-23.187077</td>\n",
       "      <td>545227.0</td>\n",
       "      <td>7435702.0</td>\n",
       "      <td>POINT (-44.55807311799169 -23.18707650770503)</td>\n",
       "    </tr>\n",
       "    <tr>\n",
       "      <td>3</td>\n",
       "      <td>-44.554606</td>\n",
       "      <td>-23.186714</td>\n",
       "      <td>545582.0</td>\n",
       "      <td>7435741.0</td>\n",
       "      <td>POINT (-44.55460555126187 -23.18671444542914)</td>\n",
       "    </tr>\n",
       "  </tbody>\n",
       "</table>\n",
       "</div>"
      ],
      "text/plain": [
       "         lon        lat      UTMx       UTMy  \\\n",
       "0 -44.716128 -23.309315  529025.0  7422210.0   \n",
       "1 -44.715260 -23.308112  529114.0  7422343.0   \n",
       "2 -44.558073 -23.187077  545227.0  7435702.0   \n",
       "3 -44.554606 -23.186714  545582.0  7435741.0   \n",
       "\n",
       "                                        geometry  \n",
       "0  POINT (-44.71612808791695 -23.30931529846051)  \n",
       "1  POINT (-44.71526021135774 -23.30811233341768)  \n",
       "2  POINT (-44.55807311799169 -23.18707650770503)  \n",
       "3  POINT (-44.55460555126187 -23.18671444542914)  "
      ]
     },
     "execution_count": 40,
     "metadata": {},
     "output_type": "execute_result"
    }
   ],
   "source": [
    "geo_df"
   ]
  },
  {
   "cell_type": "code",
   "execution_count": 41,
   "metadata": {},
   "outputs": [],
   "source": [
    "# create a South America (SA) object \n",
    "SA = world[world.continent == \"South America\"]\n"
   ]
  },
  {
   "cell_type": "code",
   "execution_count": 42,
   "metadata": {},
   "outputs": [
    {
     "data": {
      "text/plain": [
       "(-30, -10)"
      ]
     },
     "execution_count": 42,
     "metadata": {},
     "output_type": "execute_result"
    },
    {
     "data": {
      "image/png": "[encoded data removed]",
      "text/plain": [
       "<Figure size 1080x1080 with 1 Axes>"
      ]
     },
     "metadata": {
      "needs_background": "light"
     },
     "output_type": "display_data"
    }
   ],
   "source": [
    "fig, ax = plt.subplots(figsize= (15,15))\n",
    "SA.to_crs({\"init\": \"epsg:4326\"}).plot(ax=ax,  edgecolor=\"black\");\n",
    "geo_df.geometry.plot(ax=ax, color=\"red\")\n",
    "ax.set_title(\"South America plotting\")\n",
    "ax.set_xlim([-60,-30])\n",
    "ax.set_ylim([-30, -10])"
   ]
  },
  {
   "cell_type": "code",
   "execution_count": 44,
   "metadata": {},
   "outputs": [],
   "source": [
    "#Importing a shape file with geopandas\n",
    "shapefile = gpd.read_file(FX_Riacho_Pontal_Recmin_recmin.shp')"
   ]
  },
  {
   "cell_type": "code",
   "execution_count": 48,
   "metadata": {},
   "outputs": [
    {
     "data": {
      "text/html": [
       "<div>\n",
       "<style scoped>\n",
       "    .dataframe tbody tr th:only-of-type {\n",
       "        vertical-align: middle;\n",
       "    }\n",
       "\n",
       "    .dataframe tbody tr th {\n",
       "        vertical-align: top;\n",
       "    }\n",
       "\n",
       "    .dataframe thead th {\n",
       "        text-align: right;\n",
       "    }\n",
       "</style>\n",
       "<table border=\"1\" class=\"dataframe\">\n",
       "  <thead>\n",
       "    <tr style=\"text-align: right;\">\n",
       "      <th></th>\n",
       "      <th>CODIGO_OBJ</th>\n",
       "      <th>TOPONIMIA</th>\n",
       "      <th>LATITUDE</th>\n",
       "      <th>LONGITUDE</th>\n",
       "      <th>DATUM</th>\n",
       "      <th>MUNICIPIO</th>\n",
       "      <th>UF</th>\n",
       "      <th>PROVINCIA</th>\n",
       "      <th>METODO_GEO</th>\n",
       "      <th>DATA_CADAS</th>\n",
       "      <th>...</th>\n",
       "      <th>CLASSE_UTI</th>\n",
       "      <th>TIPOLOGIA</th>\n",
       "      <th>CLASSE_GEN</th>\n",
       "      <th>MODELO_DEP</th>\n",
       "      <th>ROCHA_ENCA</th>\n",
       "      <th>ROCHA_HOSP</th>\n",
       "      <th>TEXTURA_MI</th>\n",
       "      <th>TIPOS_ALTE</th>\n",
       "      <th>EXTRMIN_X_</th>\n",
       "      <th>geometry</th>\n",
       "    </tr>\n",
       "  </thead>\n",
       "  <tbody>\n",
       "    <tr>\n",
       "      <td>0</td>\n",
       "      <td>65613</td>\n",
       "      <td>Vicinal proximo a Filomena</td>\n",
       "      <td>-8.1253</td>\n",
       "      <td>-40.5075</td>\n",
       "      <td>WGS84</td>\n",
       "      <td>Santa Filomena</td>\n",
       "      <td>PE</td>\n",
       "      <td>None</td>\n",
       "      <td>Levantamento em carta 1:100.000</td>\n",
       "      <td>2017-07-20</td>\n",
       "      <td>...</td>\n",
       "      <td>None</td>\n",
       "      <td>None</td>\n",
       "      <td>None</td>\n",
       "      <td>None</td>\n",
       "      <td>None</td>\n",
       "      <td>None</td>\n",
       "      <td>None</td>\n",
       "      <td>None</td>\n",
       "      <td>None</td>\n",
       "      <td>POINT (-40.5075 -8.12529999999998)</td>\n",
       "    </tr>\n",
       "    <tr>\n",
       "      <td>1</td>\n",
       "      <td>65614</td>\n",
       "      <td>Cabeceiras</td>\n",
       "      <td>-8.3759</td>\n",
       "      <td>-41.2537</td>\n",
       "      <td>WGS84</td>\n",
       "      <td>Paulistana</td>\n",
       "      <td>PI</td>\n",
       "      <td>None</td>\n",
       "      <td>Levantamento em carta 1:100.000</td>\n",
       "      <td>2017-07-25</td>\n",
       "      <td>...</td>\n",
       "      <td>None</td>\n",
       "      <td>None</td>\n",
       "      <td>None</td>\n",
       "      <td>None</td>\n",
       "      <td>None</td>\n",
       "      <td>None</td>\n",
       "      <td>None</td>\n",
       "      <td>None</td>\n",
       "      <td>None</td>\n",
       "      <td>POINT (-41.2537 -8.3759)</td>\n",
       "    </tr>\n",
       "    <tr>\n",
       "      <td>2</td>\n",
       "      <td>65615</td>\n",
       "      <td>Cabeceiras</td>\n",
       "      <td>-8.3820</td>\n",
       "      <td>-41.2633</td>\n",
       "      <td>WGS84</td>\n",
       "      <td>Paulistana</td>\n",
       "      <td>PI</td>\n",
       "      <td>None</td>\n",
       "      <td>Levantamento em carta 1:100.000</td>\n",
       "      <td>2017-07-25</td>\n",
       "      <td>...</td>\n",
       "      <td>None</td>\n",
       "      <td>None</td>\n",
       "      <td>None</td>\n",
       "      <td>None</td>\n",
       "      <td>None</td>\n",
       "      <td>None</td>\n",
       "      <td>None</td>\n",
       "      <td>None</td>\n",
       "      <td>None</td>\n",
       "      <td>POINT (-41.2633 -8.38200000000001)</td>\n",
       "    </tr>\n",
       "    <tr>\n",
       "      <td>3</td>\n",
       "      <td>65616</td>\n",
       "      <td>Cabeceiras</td>\n",
       "      <td>-8.3922</td>\n",
       "      <td>-41.2672</td>\n",
       "      <td>WGS84</td>\n",
       "      <td>Queimada Nova</td>\n",
       "      <td>PI</td>\n",
       "      <td>None</td>\n",
       "      <td>Levantamento em carta 1:100.000</td>\n",
       "      <td>2017-07-25</td>\n",
       "      <td>...</td>\n",
       "      <td>None</td>\n",
       "      <td>None</td>\n",
       "      <td>None</td>\n",
       "      <td>None</td>\n",
       "      <td>None</td>\n",
       "      <td>None</td>\n",
       "      <td>None</td>\n",
       "      <td>None</td>\n",
       "      <td>None</td>\n",
       "      <td>POINT (-41.2672 -8.392200000000001)</td>\n",
       "    </tr>\n",
       "    <tr>\n",
       "      <td>4</td>\n",
       "      <td>65617</td>\n",
       "      <td>Cabeceiras</td>\n",
       "      <td>-8.4003</td>\n",
       "      <td>-41.2661</td>\n",
       "      <td>WGS84</td>\n",
       "      <td>Queimada Nova</td>\n",
       "      <td>PI</td>\n",
       "      <td>None</td>\n",
       "      <td>Levantamento em carta 1:100.000</td>\n",
       "      <td>2017-07-25</td>\n",
       "      <td>...</td>\n",
       "      <td>None</td>\n",
       "      <td>None</td>\n",
       "      <td>None</td>\n",
       "      <td>None</td>\n",
       "      <td>None</td>\n",
       "      <td>None</td>\n",
       "      <td>None</td>\n",
       "      <td>None</td>\n",
       "      <td>None</td>\n",
       "      <td>POINT (-41.2661 -8.400300000000019)</td>\n",
       "    </tr>\n",
       "    <tr>\n",
       "      <td>5</td>\n",
       "      <td>65618</td>\n",
       "      <td>Baixa da Jitirama</td>\n",
       "      <td>-8.3509</td>\n",
       "      <td>-41.1471</td>\n",
       "      <td>WGS84</td>\n",
       "      <td>Paulistana</td>\n",
       "      <td>PI</td>\n",
       "      <td>None</td>\n",
       "      <td>Levantamento em carta 1:100.000</td>\n",
       "      <td>2017-07-25</td>\n",
       "      <td>...</td>\n",
       "      <td>None</td>\n",
       "      <td>None</td>\n",
       "      <td>None</td>\n",
       "      <td>None</td>\n",
       "      <td>None</td>\n",
       "      <td>None</td>\n",
       "      <td>None</td>\n",
       "      <td>None</td>\n",
       "      <td>None</td>\n",
       "      <td>POINT (-41.1471 -8.350900000000021)</td>\n",
       "    </tr>\n",
       "    <tr>\n",
       "      <td>6</td>\n",
       "      <td>65619</td>\n",
       "      <td>Brejo Seco</td>\n",
       "      <td>-8.4850</td>\n",
       "      <td>-41.9688</td>\n",
       "      <td>WGS84</td>\n",
       "      <td>CapitÃ£o GervÃ¡sio Oliveira</td>\n",
       "      <td>PI</td>\n",
       "      <td>None</td>\n",
       "      <td>Levantamento em carta 1:100.000</td>\n",
       "      <td>2017-07-26</td>\n",
       "      <td>...</td>\n",
       "      <td>None</td>\n",
       "      <td>None</td>\n",
       "      <td>None</td>\n",
       "      <td>None</td>\n",
       "      <td>None</td>\n",
       "      <td>None</td>\n",
       "      <td>None</td>\n",
       "      <td>None</td>\n",
       "      <td>None</td>\n",
       "      <td>POINT (-41.9688 -8.48500000000001)</td>\n",
       "    </tr>\n",
       "  </tbody>\n",
       "</table>\n",
       "<p>7 rows × 26 columns</p>\n",
       "</div>"
      ],
      "text/plain": [
       "   CODIGO_OBJ                   TOPONIMIA  LATITUDE  LONGITUDE  DATUM  \\\n",
       "0       65613  Vicinal proximo a Filomena   -8.1253   -40.5075  WGS84   \n",
       "1       65614                  Cabeceiras   -8.3759   -41.2537  WGS84   \n",
       "2       65615                  Cabeceiras   -8.3820   -41.2633  WGS84   \n",
       "3       65616                  Cabeceiras   -8.3922   -41.2672  WGS84   \n",
       "4       65617                  Cabeceiras   -8.4003   -41.2661  WGS84   \n",
       "5       65618           Baixa da Jitirama   -8.3509   -41.1471  WGS84   \n",
       "6       65619                  Brejo Seco   -8.4850   -41.9688  WGS84   \n",
       "\n",
       "                     MUNICIPIO  UF PROVINCIA                       METODO_GEO  \\\n",
       "0               Santa Filomena  PE      None  Levantamento em carta 1:100.000   \n",
       "1                   Paulistana  PI      None  Levantamento em carta 1:100.000   \n",
       "2                   Paulistana  PI      None  Levantamento em carta 1:100.000   \n",
       "3                Queimada Nova  PI      None  Levantamento em carta 1:100.000   \n",
       "4                Queimada Nova  PI      None  Levantamento em carta 1:100.000   \n",
       "5                   Paulistana  PI      None  Levantamento em carta 1:100.000   \n",
       "6  CapitÃ£o GervÃ¡sio Oliveira  PI      None  Levantamento em carta 1:100.000   \n",
       "\n",
       "   DATA_CADAS  ... CLASSE_UTI TIPOLOGIA CLASSE_GEN MODELO_DEP ROCHA_ENCA  \\\n",
       "0  2017-07-20  ...       None      None       None       None       None   \n",
       "1  2017-07-25  ...       None      None       None       None       None   \n",
       "2  2017-07-25  ...       None      None       None       None       None   \n",
       "3  2017-07-25  ...       None      None       None       None       None   \n",
       "4  2017-07-25  ...       None      None       None       None       None   \n",
       "5  2017-07-25  ...       None      None       None       None       None   \n",
       "6  2017-07-26  ...       None      None       None       None       None   \n",
       "\n",
       "  ROCHA_HOSP TEXTURA_MI TIPOS_ALTE EXTRMIN_X_  \\\n",
       "0       None       None       None       None   \n",
       "1       None       None       None       None   \n",
       "2       None       None       None       None   \n",
       "3       None       None       None       None   \n",
       "4       None       None       None       None   \n",
       "5       None       None       None       None   \n",
       "6       None       None       None       None   \n",
       "\n",
       "                              geometry  \n",
       "0   POINT (-40.5075 -8.12529999999998)  \n",
       "1             POINT (-41.2537 -8.3759)  \n",
       "2   POINT (-41.2633 -8.38200000000001)  \n",
       "3  POINT (-41.2672 -8.392200000000001)  \n",
       "4  POINT (-41.2661 -8.400300000000019)  \n",
       "5  POINT (-41.1471 -8.350900000000021)  \n",
       "6   POINT (-41.9688 -8.48500000000001)  \n",
       "\n",
       "[7 rows x 26 columns]"
      ]
     },
     "execution_count": 48,
     "metadata": {},
     "output_type": "execute_result"
    }
   ],
   "source": [
    "# voila you have a dataframe\n",
    "shapefile"
   ]
  },
  {
   "cell_type": "code",
   "execution_count": 49,
   "metadata": {},
   "outputs": [
    {
     "data": {
      "text/plain": [
       "0     POINT (-40.5075 -8.12529999999998)\n",
       "1               POINT (-41.2537 -8.3759)\n",
       "2     POINT (-41.2633 -8.38200000000001)\n",
       "3    POINT (-41.2672 -8.392200000000001)\n",
       "4    POINT (-41.2661 -8.400300000000019)\n",
       "5    POINT (-41.1471 -8.350900000000021)\n",
       "6     POINT (-41.9688 -8.48500000000001)\n",
       "Name: geometry, dtype: object"
      ]
     },
     "execution_count": 49,
     "metadata": {},
     "output_type": "execute_result"
    }
   ],
   "source": [
    "shapefile['geometry']"
   ]
  },
  {
   "cell_type": "code",
   "execution_count": null,
   "metadata": {},
   "outputs": [],
   "source": []
  }
 ],
 "metadata": {
  "kernelspec": {
   "display_name": "Python [conda env:geo] *",
   "language": "python",
   "name": "conda-env-geo-py"
  },
  "language_info": {
   "codemirror_mode": {
    "name": "ipython",
    "version": 3
   },
   "file_extension": ".py",
   "mimetype": "text/x-python",
   "name": "python",
   "nbconvert_exporter": "python",
   "pygments_lexer": "ipython3",
   "version": "3.7.4"
  }
 },
 "nbformat": 4,
 "nbformat_minor": 2
}
